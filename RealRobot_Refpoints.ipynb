{
 "cells": [
  {
   "cell_type": "code",
   "execution_count": 23,
   "id": "b1e3123a-0b57-40d6-94f7-deb3a77f9b5f",
   "metadata": {},
   "outputs": [],
   "source": [
    "ref_point_list =     [(0,0,1),\n",
    "    (1.8477,0,2),\n",
    "    (1.8477,-0.47,3),\n",
    "    (1.4612351966850805,-0.47337361981444936,4),\n",
    "    (1.488915913655926,-0.9898359779111149,5),\n",
    "    (1.8784205168310057, -0.9465217795498742,6),\n",
    "    (1.8988494899765054,-1.5221456908917477,7),\n",
    "    (1.472192559660402,-1.5119025143073208,8),\n",
    "    (1.45492122831896,-1.8623709691792418,9),\n",
    "    (0.9932646068019697,-1.8797840080510675,10),\n",
    "    (0.9023012336595384,-0.984025672370495,11),\n",
    "    (0.47553288048572817, -1.0438755873689844,12),\n",
    "    (0.43925411993242325,-0.543478297043073,13),\n",
    "    ( 0.06374232769705736, -0.5498248668009166,14)]"
   ]
  },
  {
   "cell_type": "code",
   "execution_count": 24,
   "id": "e8a0eafd-45d8-4593-bc04-881eb4ecca55",
   "metadata": {},
   "outputs": [],
   "source": [
    "waypoints = []\n",
    "for i in range(1,len(ref_point_list)):\n",
    "    waypoints.append((ref_point_list[i][0] - ref_point_list[i-1][0],ref_point_list[i][1] - ref_point_list[i-1][1],ref_point_list[i][2]))"
   ]
  },
  {
   "cell_type": "code",
   "execution_count": 25,
   "id": "05ec483a-9841-49d3-bb15-2f5bd8802bc2",
   "metadata": {},
   "outputs": [
    {
     "name": "stdout",
     "output_type": "stream",
     "text": [
      "[(1.8477, 0, 2), (0.0, -0.47, 3), (-0.3864648033149194, -0.003373619814449391, 4), (0.02768071697084551, -0.5164623580966655, 5), (0.38950460317507973, 0.04331419836124073, 6), (0.02042897314549963, -0.5756239113418735, 7), (-0.4266569303161034, 0.01024317658442686, 8), (-0.017271331341441876, -0.350468454871921, 9), (-0.4616566215169904, -0.01741303887182566, 10), (-0.0909633731424313, 0.8957583356805725, 11), (-0.42676835317381023, -0.05984991499848946, 12), (-0.03627876055330492, 0.5003972903259114, 13), (-0.3755117922353659, -0.006346569757843534, 14)]\n"
     ]
    }
   ],
   "source": [
    "print(waypoints)"
   ]
  },
  {
   "cell_type": "code",
   "execution_count": 26,
   "id": "0e9a3b08-366a-422c-8a70-9dd856c799c7",
   "metadata": {},
   "outputs": [],
   "source": [
    "def new_ref_point(waypoints, start_x, start_y):\n",
    "    ref_points =[]\n",
    "    ref_points.append((start_x, start_y, 1))\n",
    "    x = start_x\n",
    "    y = start_y\n",
    "    for w in waypoints:\n",
    "        x += w[0]\n",
    "        y += w[1]\n",
    "        ref_points.append((x,y,w[2]))\n",
    "    return ref_points"
   ]
  },
  {
   "cell_type": "code",
   "execution_count": 27,
   "id": "dae579ec-6818-4c83-b94d-f9b3bdf681ec",
   "metadata": {},
   "outputs": [],
   "source": [
    "def reverse_new_ref_point(waypoints, end_x, end_y):\n",
    "    ref_points =[]\n",
    "    ref_points.append((end_x, end_y, 1))\n",
    "    x = end_x\n",
    "    y = end_y\n",
    "    for w in reversed(waypoints):\n",
    "        x -= w[0]\n",
    "        y -= w[1]\n",
    "        ref_points.append((x,y,w[2]))\n",
    "    return reversed(ref_points)"
   ]
  },
  {
   "cell_type": "code",
   "execution_count": 28,
   "id": "921ecfff-7c31-48c5-ac44-264977b2395d",
   "metadata": {},
   "outputs": [],
   "source": [
    "ref2 = new_ref_point(waypoints,0.72,0.4368)"
   ]
  },
  {
   "cell_type": "code",
   "execution_count": 29,
   "id": "1f413772-9404-497c-a8c3-97a9428d8784",
   "metadata": {},
   "outputs": [
    {
     "name": "stdout",
     "output_type": "stream",
     "text": [
      "std::make_tuple (0.72, 0.4368, 1) ,\n",
      "std::make_tuple (2.5677, 0.4368, 2) ,\n",
      "std::make_tuple (2.5677, -0.03319999999999995, 3) ,\n",
      "std::make_tuple (2.1812351966850807, -0.03657361981444934, 4) ,\n",
      "std::make_tuple (2.208915913655926, -0.5530359779111149, 5) ,\n",
      "std::make_tuple (2.598420516831006, -0.5097217795498742, 6) ,\n",
      "std::make_tuple (2.6188494899765056, -1.0853456908917476, 7) ,\n",
      "std::make_tuple (2.192192559660402, -1.0751025143073207, 8) ,\n",
      "std::make_tuple (2.17492122831896, -1.4255709691792418, 9) ,\n",
      "std::make_tuple (1.7132646068019697, -1.4429840080510674, 10) ,\n",
      "std::make_tuple (1.6223012336595384, -0.5472256723704949, 11) ,\n",
      "std::make_tuple (1.1955328804857281, -0.6070755873689844, 12) ,\n",
      "std::make_tuple (1.1592541199324233, -0.10667829704307297, 13) ,\n",
      "std::make_tuple (0.7837423276970574, -0.1130248668009165, 14) ,\n",
      "};\n"
     ]
    }
   ],
   "source": [
    "for ele in ref2:\n",
    "    print('std::make_tuple',ele,',')\n",
    "print('};')\n",
    "#print(ref2)"
   ]
  },
  {
   "cell_type": "code",
   "execution_count": 30,
   "id": "8cb57797-cbbd-4b2d-943d-eaff543c9cb8",
   "metadata": {},
   "outputs": [
    {
     "name": "stdout",
     "output_type": "stream",
     "text": [
      "std::make_tuple (0.727479909183314, 0.4374669989084643, 2) ,\n",
      "std::make_tuple (2.575179909183314, 0.4374669989084643, 3) ,\n",
      "std::make_tuple (2.575179909183314, -0.032533001091535674, 4) ,\n",
      "std::make_tuple (2.1887151058683942, -0.035906620905985065, 5) ,\n",
      "std::make_tuple (2.2163958228392397, -0.5523689790026506, 6) ,\n",
      "std::make_tuple (2.6059004260143195, -0.5090547806414099, 7) ,\n",
      "std::make_tuple (2.626329399159819, -1.0846786919832834, 8) ,\n",
      "std::make_tuple (2.199672468843716, -1.0744355153988565, 9) ,\n",
      "std::make_tuple (2.182401137502274, -1.4249039702707775, 10) ,\n",
      "std::make_tuple (1.7207445159852839, -1.4423170091426032, 11) ,\n",
      "std::make_tuple (1.6297811428428526, -0.5465586734620306, 12) ,\n",
      "std::make_tuple (1.2030127896690423, -0.60640858846052, 13) ,\n",
      "std::make_tuple (1.1667340291157373, -0.10601129813460865, 14) ,\n",
      "std::make_tuple (0.7912222368803715, -0.11235786789245218, 1) ,\n",
      "};\n"
     ]
    }
   ],
   "source": [
    "ref3 = reverse_new_ref_point(waypoints, 0.7912222368803715,-0.11235786789245218)\n",
    "for ele in ref3:\n",
    "    print('std::make_tuple',ele,',')\n",
    "print('};')\n",
    "#print(ref2)"
   ]
  },
  {
   "cell_type": "code",
   "execution_count": null,
   "id": "e05021ab-3f1c-4c69-a69b-8e4da22663e5",
   "metadata": {},
   "outputs": [],
   "source": []
  }
 ],
 "metadata": {
  "kernelspec": {
   "display_name": "Python 3 (ipykernel)",
   "language": "python",
   "name": "python3"
  },
  "language_info": {
   "codemirror_mode": {
    "name": "ipython",
    "version": 3
   },
   "file_extension": ".py",
   "mimetype": "text/x-python",
   "name": "python",
   "nbconvert_exporter": "python",
   "pygments_lexer": "ipython3",
   "version": "3.8.10"
  }
 },
 "nbformat": 4,
 "nbformat_minor": 5
}
